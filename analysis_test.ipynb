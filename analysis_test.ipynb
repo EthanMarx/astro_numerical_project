{
 "cells": [
  {
   "cell_type": "code",
   "execution_count": 1,
   "metadata": {},
   "outputs": [],
   "source": [
    "import matplotlib.pyplot as plt\n",
    "import readsnapGadget2 as snap\n",
    "import numpy as np\n",
    "from copy import copy"
   ]
  },
  {
   "cell_type": "code",
   "execution_count": 2,
   "metadata": {},
   "outputs": [],
   "source": [
    "# give some particles for test purpose\n",
    "boxsize = 10\n",
    "pos = np.array([[0, 0, 0],\n",
    "                [0, 1, 0],\n",
    "                [1, 0, 0],\n",
    "                [5, 5, 0],\n",
    "                [6, 6, 0],\n",
    "                [9.3, 9.3, 1],\n",
    "                [4, 8, 0],\n",
    "                [5.5, 3.9, 0],\n",
    "                [8, 2, 0],\n",
    "                [9, 9, 0],\n",
    "                [2, 1, 0],\n",
    "                [2, 2, 0],\n",
    "                [2.2, 2.2, 1],\n",
    "                [2.4, 2.4, 2],\n",
    "                [1, 1, 3]\n",
    "               ]) # positions of all particles\n",
    "particles = pos # The positions of particles still left to be grouped\n",
    "part_mass = 1       "
   ]
  },
  {
   "cell_type": "code",
   "execution_count": 3,
   "metadata": {},
   "outputs": [
    {
     "data": {
      "text/plain": [
       "array([[0. , 0. , 0. ],\n",
       "       [0. , 1. , 0. ],\n",
       "       [1. , 0. , 0. ],\n",
       "       [5. , 5. , 0. ],\n",
       "       [6. , 6. , 0. ],\n",
       "       [9.3, 9.3, 1. ],\n",
       "       [4. , 8. , 0. ],\n",
       "       [5.5, 3.9, 0. ],\n",
       "       [8. , 2. , 0. ],\n",
       "       [9. , 9. , 0. ],\n",
       "       [2. , 1. , 0. ],\n",
       "       [2. , 2. , 0. ],\n",
       "       [2.2, 2.2, 1. ],\n",
       "       [2.4, 2.4, 2. ],\n",
       "       [1. , 1. , 3. ]])"
      ]
     },
     "execution_count": 3,
     "metadata": {},
     "output_type": "execute_result"
    }
   ],
   "source": [
    "particles"
   ]
  },
  {
   "cell_type": "code",
   "execution_count": 6,
   "metadata": {},
   "outputs": [
    {
     "data": {
      "image/png": "[encoded data removed]",
      "text/plain": [
       "<Figure size 576x576 with 1 Axes>"
      ]
     },
     "metadata": {
      "needs_background": "light"
     },
     "output_type": "display_data"
    }
   ],
   "source": [
    "# plot particle locations in 2d\n",
    "plt.figure(figsize=(8,8))\n",
    "for i in range(len(pos)):\n",
    "    plt.plot(pos[i, 0], pos[i, 1], 'o')\n",
    "plt.xlim(0, boxsize)\n",
    "plt.ylim(0, boxsize)\n",
    "plt.grid()"
   ]
  },
  {
   "cell_type": "code",
   "execution_count": 7,
   "metadata": {},
   "outputs": [],
   "source": [
    "link_len = np.sqrt(2) + 0.01 # define a link length within which two particles will be friends"
   ]
  },
  {
   "cell_type": "code",
   "execution_count": 8,
   "metadata": {},
   "outputs": [],
   "source": [
    "def distance(other_particles, particle):\n",
    "    # get the differece in x, y, z coordinates\n",
    "    dx = other_particles[:, 0] - particle[0]\n",
    "    dy = other_particles[:, 1] - particle[1]\n",
    "    dz = other_particles[:, 2] - particle[2]\n",
    "    # account for periodic boundary conditions\n",
    "    dx[dx > boxsize/2] = boxsize - dx[dx > boxsize/2]\n",
    "    dy[dy > boxsize/2] = boxsize - dy[dy > boxsize/2]\n",
    "    dz[dz > boxsize/2] = boxsize - dz[dz > boxsize/2]\n",
    "    \n",
    "    dist = (dx**2 + dy**2 + dz**2)**0.5\n",
    "    return dist"
   ]
  },
  {
   "cell_type": "code",
   "execution_count": 9,
   "metadata": {},
   "outputs": [],
   "source": [
    "# dictionary to hold groups\n",
    "groups = {}\n",
    "sizes = {}\n",
    "\n",
    "# initial group id to label groups\n",
    "group_id = 0\n",
    "\n",
    "# loop while there are still particles to be grouped\n",
    "while len(particles) > 0:\n",
    "    \n",
    "    '''Find the friends of the first particle from the list of left-over particles''' \n",
    "    part = particles[0] # get location of the first particle \n",
    "    \n",
    "    # calculate distance to the particle of interest for all other particles that have not been grouped\n",
    "    dists = distance(particles, part)\n",
    "    \n",
    "    # determine which are within the linking length\n",
    "    mask = np.where(dists < link_len)[0]\n",
    "    \n",
    "    # add these particles' positions to the current group \n",
    "    groups[group_id] = particles[mask]\n",
    "\n",
    "    # drop these particles from particle list\n",
    "    particles = np.delete(particles, mask, axis=0)\n",
    "    \n",
    "    '''Find the friends of friends of part'''\n",
    "    pointer = 1 # index of the friend for whom we are looking for more friends\n",
    "                # namely this points at the index of the elements in the current group: groups[group_id]\n",
    "    # loop over all the friends in the current group to find their friends\n",
    "    while pointer < len(groups[group_id]):\n",
    "        \n",
    "        # get position of the friend being considered\n",
    "        part_friend = groups[group_id][pointer]\n",
    "        \n",
    "        # repeat above analysis for that friend \n",
    "        dists = distance(particles, part_friend)\n",
    "       \n",
    "        # determine which are within the linking length\n",
    "        mask = np.where(dists < link_len)[0]\n",
    "        \n",
    "        # if we found friends of that friend,\n",
    "        if len(mask) > 0:\n",
    "            \n",
    "            friends_of_friend = particles[mask]\n",
    "            \n",
    "            # add them to the current group\n",
    "            groups[group_id] = np.concatenate([groups[group_id], friends_of_friend])\n",
    "            \n",
    "            # remove them from the remaining particles list\n",
    "            particles = np.delete(particles, mask, axis=0)\n",
    "\n",
    "        # move on to the next friend in the current group\n",
    "        pointer +=1\n",
    "    \n",
    "    '''Current group completed. Move on to the next group'''\n",
    "    sizes[group_id] = len(groups[group_id]) # record the group size \n",
    "    group_id += 1   "
   ]
  },
  {
   "cell_type": "code",
   "execution_count": 10,
   "metadata": {},
   "outputs": [
    {
     "data": {
      "image/png": "[encoded data removed]",
      "text/plain": [
       "<Figure size 576x576 with 1 Axes>"
      ]
     },
     "metadata": {
      "needs_background": "light"
     },
     "output_type": "display_data"
    }
   ],
   "source": [
    "colorlist = ['b', 'g', 'r', 'c', 'm', 'y', 'k']\n",
    "\n",
    "plt.figure(figsize=(8,8))\n",
    "for i in range(group_id):\n",
    "    for j in range(sizes[i]):\n",
    "        plt.plot(groups[i][j][0], groups[i][j][1], 'o', color=colorlist[i%7])\n",
    "plt.xlim(0, boxsize)\n",
    "plt.ylim(0, boxsize)\n",
    "plt.grid()"
   ]
  },
  {
   "cell_type": "code",
   "execution_count": 11,
   "metadata": {},
   "outputs": [
    {
     "data": {
      "text/plain": [
       "{0: array([[0. , 0. , 0. ],\n",
       "        [0. , 1. , 0. ],\n",
       "        [1. , 0. , 0. ],\n",
       "        [9.3, 9.3, 1. ],\n",
       "        [9. , 9. , 0. ],\n",
       "        [2. , 1. , 0. ],\n",
       "        [2. , 2. , 0. ],\n",
       "        [2.2, 2.2, 1. ],\n",
       "        [2.4, 2.4, 2. ]]), 1: array([[5. , 5. , 0. ],\n",
       "        [6. , 6. , 0. ],\n",
       "        [5.5, 3.9, 0. ]]), 2: array([[4., 8., 0.]]), 3: array([[8., 2., 0.]]), 4: array([[1., 1., 3.]])}"
      ]
     },
     "execution_count": 11,
     "metadata": {},
     "output_type": "execute_result"
    }
   ],
   "source": [
    "groups"
   ]
  },
  {
   "cell_type": "code",
   "execution_count": 12,
   "metadata": {},
   "outputs": [
    {
     "data": {
      "text/plain": [
       "{0: 9, 1: 3, 2: 1, 3: 1, 4: 1}"
      ]
     },
     "execution_count": 12,
     "metadata": {},
     "output_type": "execute_result"
    }
   ],
   "source": [
    "sizes"
   ]
  }
 ],
 "metadata": {
  "kernelspec": {
   "display_name": "Python 3",
   "language": "python",
   "name": "python3"
  },
  "language_info": {
   "codemirror_mode": {
    "name": "ipython",
    "version": 3
   },
   "file_extension": ".py",
   "mimetype": "text/x-python",
   "name": "python",
   "nbconvert_exporter": "python",
   "pygments_lexer": "ipython3",
   "version": "3.7.4"
  }
 },
 "nbformat": 4,
 "nbformat_minor": 2
}
